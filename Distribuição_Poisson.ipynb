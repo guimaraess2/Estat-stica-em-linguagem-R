{
  "nbformat": 4,
  "nbformat_minor": 0,
  "metadata": {
    "colab": {
      "provenance": [],
      "collapsed_sections": [],
      "authorship_tag": "ABX9TyMnxecmSSDLO1ZHhniEIPoZ",
      "include_colab_link": true
    },
    "kernelspec": {
      "name": "python3",
      "display_name": "Python 3"
    },
    "language_info": {
      "name": "python"
    }
  },
  "cells": [
    {
      "cell_type": "markdown",
      "metadata": {
        "id": "view-in-github",
        "colab_type": "text"
      },
      "source": [
        "<a href=\"https://colab.research.google.com/github/guimaraess2/Estatistica-para-Data-Science-Python-R/blob/main/Distribui%C3%A7%C3%A3o_Poisson.ipynb\" target=\"_parent\"><img src=\"https://colab.research.google.com/assets/colab-badge.svg\" alt=\"Open In Colab\"/></a>"
      ]
    },
    {
      "cell_type": "markdown",
      "source": [
        "\n",
        "Em uma estrada,  a taxa de ocorrências de postos de gasolina em uma faixa de 200 km é 3.\n",
        "Ou seja, o número médio de ocorrências postos de gasolina em uma faixa de 200 KM  é 3. Qual é a probabilidade de que 0, 1 , 2, 3, 4 ou 5 postos de gasolina ocorrerão nos próximos 200 km?\n"
      ],
      "metadata": {
        "id": "r19b3LBOV9mj"
      }
    },
    {
      "cell_type": "markdown",
      "source": [
        "**Carregando as bibliotecas / Loading the libraries**"
      ],
      "metadata": {
        "id": "N7Yxv0q4eUb9"
      }
    },
    {
      "cell_type": "code",
      "source": [
        "from scipy.stats import poisson\n",
        "import matplotlib.pyplot as plt"
      ],
      "metadata": {
        "id": "1RyahvBkbPi8"
      },
      "execution_count": 1,
      "outputs": []
    },
    {
      "cell_type": "markdown",
      "source": [
        "**Números de postos de gasolina / Gas station numbers**"
      ],
      "metadata": {
        "id": "wKyS-jZOa8R8"
      }
    },
    {
      "cell_type": "code",
      "source": [
        "gas_ocorr = [0, 1, 2, 3, 4, 5]\n"
      ],
      "metadata": {
        "id": "CyGD8v4XbPfb"
      },
      "execution_count": 11,
      "outputs": []
    },
    {
      "cell_type": "markdown",
      "source": [
        "**Número médio de ocorrências de postos de gasolina em 200 KM é 3 / The average number of gas station occurrences in 200 KM is 3**"
      ],
      "metadata": {
        "id": "ucfDZz9abZzS"
      }
    },
    {
      "cell_type": "code",
      "source": [
        "lmbda = 3"
      ],
      "metadata": {
        "id": "1xuV1guKbStz"
      },
      "execution_count": 12,
      "outputs": []
    },
    {
      "cell_type": "markdown",
      "source": [
        "**Valores de probabilidade / Probability values**"
      ],
      "metadata": {
        "id": "esEWgFVudcpc"
      }
    },
    {
      "cell_type": "code",
      "source": [
        "distr_poisson = poisson.pmf(gas_ocorr, lmbda)\n",
        "distr_poisson"
      ],
      "metadata": {
        "colab": {
          "base_uri": "https://localhost:8080/"
        },
        "id": "SWQ_KVGGZ7J6",
        "outputId": "81c80c7c-28e9-4e4d-9a98-8f1efa00858e"
      },
      "execution_count": 28,
      "outputs": [
        {
          "output_type": "execute_result",
          "data": {
            "text/plain": [
              "array([0.04978707, 0.14936121, 0.22404181, 0.22404181, 0.16803136,\n",
              "       0.10081881])"
            ]
          },
          "metadata": {},
          "execution_count": 28
        }
      ]
    },
    {
      "cell_type": "markdown",
      "source": [
        "**Visualização da distribuição de probabilidade / Probability distribution visualization**"
      ],
      "metadata": {
        "id": "bs_UHo56dlHa"
      }
    },
    {
      "cell_type": "code",
      "source": [
        "fig, ax = plt.subplots(1, 1, figsize=(10, 8))\n",
        "ax.plot(gas_ocorr, distr_poisson, 'bo', ms=10, label='poisson pmf')\n",
        "plt.ylabel(\"Probabilidade\", fontsize=\"20\")\n",
        "plt.xlabel(\"Postos de gasolina\", fontsize=\"18\")\n",
        "plt.title(\" Nº de Postos de gasolina X Probabilidade\", fontsize=\"18\")\n",
        "ax.vlines(gas_ocorr, 0, distr_poisson, colors='g', lw=80, alpha=0.5)"
      ],
      "metadata": {
        "colab": {
          "base_uri": "https://localhost:8080/",
          "height": 543
        },
        "id": "N94sQXTjZ7Eu",
        "outputId": "ad25bcb9-aa7c-4ba2-e516-28ee4ad65cf6"
      },
      "execution_count": 29,
      "outputs": [
        {
          "output_type": "execute_result",
          "data": {
            "text/plain": [
              "<matplotlib.collections.LineCollection at 0x7f70ec5bc9d0>"
            ]
          },
          "metadata": {},
          "execution_count": 29
        },
        {
          "output_type": "display_data",
          "data": {
            "text/plain": [
              "<Figure size 720x576 with 1 Axes>"
            ],
            "image/png": "[encoded data removed]"
          },
          "metadata": {
            "needs_background": "light"
          }
        }
      ]
    },
    {
      "cell_type": "code",
      "source": [],
      "metadata": {
        "id": "6MyZvh9ZZ663"
      },
      "execution_count": null,
      "outputs": []
    }
  ]
}